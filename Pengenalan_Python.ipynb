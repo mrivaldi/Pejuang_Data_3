{
  "nbformat": 4,
  "nbformat_minor": 0,
  "metadata": {
    "colab": {
      "name": "Pengenalan_Python.ipynb",
      "provenance": [],
      "collapsed_sections": [],
      "include_colab_link": true
    },
    "kernelspec": {
      "name": "python3",
      "display_name": "Python 3"
    },
    "language_info": {
      "name": "python"
    }
  },
  "cells": [
    {
      "cell_type": "markdown",
      "metadata": {
        "id": "view-in-github",
        "colab_type": "text"
      },
      "source": [
        "<a href=\"https://colab.research.google.com/github/mrivaldi/Pejuang_Data_3/blob/main/Pengenalan_Python.ipynb\" target=\"_parent\"><img src=\"https://colab.research.google.com/assets/colab-badge.svg\" alt=\"Open In Colab\"/></a>"
      ]
    },
    {
      "cell_type": "markdown",
      "metadata": {
        "id": "7Jxc5W8zR4ev"
      },
      "source": [
        "# Pengenalan Python"
      ]
    },
    {
      "cell_type": "markdown",
      "metadata": {
        "id": "dpA3y4fMWUWO"
      },
      "source": [
        "Python adalah Bahasa pemrograman tingkat tinggi dengan dynamic semantics , bersifat object oriented, dan interpretatif. Bahasa pemrograman ini fokus dikembangkan pada keterbacaan bahasa pemrograman.\n",
        "1.\t**Bahasa Pemrograman Tingkat Tinggi(High Level Programming)**\n",
        "Artinya sintaks kode lebih mudah ditafsirkan oleh manusia.\n",
        "2.\t**Interpretatif**\n",
        "Ini artinya bahasa ini memerlukan intrepeter atau penerjemah. Ini memungkinkan bagi kita untuk menggunakan Bahasa yang lebih mudah kita pahami.\n",
        "3.\t**Object Oriented**\n",
        "Ini berarti bahwa bahasa pemrograman ini berorientasi kepada objek. Hal ini membuat Python lebih mudah untuk dikembangkan.\n",
        "4.\t**Dynamic Semantics**\n",
        "Python secara otomatis akan menyesuaikan tipe dari suatu variable berdasarkan inputnya.\n"
      ]
    },
    {
      "cell_type": "markdown",
      "metadata": {
        "id": "uoMbkkTqW5Ki"
      },
      "source": [
        "# Mengapa Python?"
      ]
    },
    {
      "cell_type": "markdown",
      "metadata": {
        "id": "WO40T1kiW8IX"
      },
      "source": [
        "1.\tMudah dipahami\n",
        "2.\tGratis & Open Source\n",
        "3.\tDinamis\n",
        "4.\tMemiliki Library Terlengkap untuk Data Sains\n"
      ]
    },
    {
      "cell_type": "markdown",
      "metadata": {
        "id": "D3ozCXiHR4ev"
      },
      "source": [
        "# Struktur Program Pada Python"
      ]
    },
    {
      "cell_type": "markdown",
      "metadata": {
        "id": "IRqtbp7YZ2nv"
      },
      "source": [
        "Python pada umumnya terdiri dari:\n",
        "\n",
        "**1.** **Statements**"
      ]
    },
    {
      "cell_type": "code",
      "metadata": {
        "colab": {
          "base_uri": "https://localhost:8080/"
        },
        "id": "d-EsBBNDZ_GD",
        "outputId": "368b0afc-0b6e-4547-f416-2ab6f5844e09"
      },
      "source": [
        "print(\"belajar Python menyenangkan\")\n",
        "print(\"halo dunia\")"
      ],
      "execution_count": null,
      "outputs": [
        {
          "output_type": "stream",
          "name": "stdout",
          "text": [
            "belajar Python menyenangkan\n",
            "halo dunia\n"
          ]
        }
      ]
    },
    {
      "cell_type": "markdown",
      "metadata": {
        "id": "aIENkVn5aeoX"
      },
      "source": [
        "**2.** **Variables**"
      ]
    },
    {
      "cell_type": "code",
      "metadata": {
        "id": "Q_D1FcA6amJP"
      },
      "source": [
        "bilangan1 = 5\n",
        "bilangan2 = 10\n",
        "kalimat = \"Pejuang Data 3\""
      ],
      "execution_count": null,
      "outputs": []
    },
    {
      "cell_type": "markdown",
      "metadata": {
        "id": "Xu1aQoYWaspC"
      },
      "source": [
        "**3.** **Literals**: Simbol-simbol yang dapat kita gunakan untuk mengisi suatu variabel."
      ]
    },
    {
      "cell_type": "markdown",
      "metadata": {
        "id": "o8uLmldQa16u"
      },
      "source": [
        "**4.** **Operators**: Simbol-simbol yang dapat digunakan untuk mengubah nilai dari satu variabel dengan melibatkan satu atau lebih variabel dan literal."
      ]
    },
    {
      "cell_type": "code",
      "metadata": {
        "colab": {
          "base_uri": "https://localhost:8080/"
        },
        "id": "GkcRpyTEaEf2",
        "outputId": "0a0efaee-a14b-4305-faf8-bc9ece1e8256"
      },
      "source": [
        "bilangan1 + bilangan2"
      ],
      "execution_count": null,
      "outputs": [
        {
          "output_type": "execute_result",
          "data": {
            "text/plain": [
              "15"
            ]
          },
          "metadata": {},
          "execution_count": 19
        }
      ]
    },
    {
      "cell_type": "markdown",
      "metadata": {
        "id": "6NSRK14LbVPq"
      },
      "source": [
        " \n",
        "\n",
        "**5.** **Reserved Words**: Kumpulan kata-kata yang memiliki makna khusus dalam bahasa pemrograman Python. Kata `False`, `return`, dan `for` merupakan contoh dari reserved words.\n"
      ]
    },
    {
      "cell_type": "markdown",
      "metadata": {
        "id": "kk72veb2b_ZY"
      },
      "source": [
        "**6.** **Whitespace**: Pada bahasa Python, spasi dan tab memiliki makna khusus untuk menandai serangkaian blok dalam kode Python.\n",
        "\n"
      ]
    },
    {
      "cell_type": "markdown",
      "metadata": {
        "id": "Wfst6-V9cB_e"
      },
      "source": [
        "\n",
        "**7.** **Comments**: Comments merupakan sekumpulan teks yang dituliskan di dalam sebuah program yang tidak akan mempengaruhi hasil dari sebuah program."
      ]
    },
    {
      "cell_type": "markdown",
      "metadata": {
        "id": "vJkJYVJhcEcS"
      },
      "source": [
        "Terdapat dua jenis comments di dalam Python, yaitu:\n",
        "\n",
        "**a. single line comment** (comments dalam satu baris) seperti pada contoh berikut:\n",
        "\n"
      ]
    },
    {
      "cell_type": "code",
      "metadata": {
        "colab": {
          "base_uri": "https://localhost:8080/"
        },
        "id": "HxShXFaLcHbV",
        "outputId": "15152b35-2af5-45ef-a409-62d25982f93b"
      },
      "source": [
        "# Ini adalah Comment\n",
        "print(\"belajar Python\")"
      ],
      "execution_count": null,
      "outputs": [
        {
          "output_type": "stream",
          "name": "stdout",
          "text": [
            "belajar Python\n"
          ]
        }
      ]
    },
    {
      "cell_type": "markdown",
      "metadata": {
        "id": "dIBxp6QbcGGS"
      },
      "source": [
        "**b. multi line comment** (comments dalam beberapa baris) yang dapat dituliskan seperti pada contoh berikut:"
      ]
    },
    {
      "cell_type": "code",
      "metadata": {
        "colab": {
          "base_uri": "https://localhost:8080/"
        },
        "id": "JnAUHRRBcQIL",
        "outputId": "31fa370b-1f4f-41a6-a45a-1b9091ec4e29"
      },
      "source": [
        "'''\n",
        "Ini adalah komentar panjang\n",
        "Bisa digunakan untuk memberikan penjelasan\n",
        "panjang pada Sell Kode Python,\n",
        "Misal dokumentasi program, spesifikasi\n",
        "input output atau lainnya\n",
        "'''\n",
        "\n",
        "print('Belajar Python menyenangkan')"
      ],
      "execution_count": null,
      "outputs": [
        {
          "output_type": "stream",
          "name": "stdout",
          "text": [
            "Belajar Python menyenangkan\n"
          ]
        }
      ]
    }
  ]
}